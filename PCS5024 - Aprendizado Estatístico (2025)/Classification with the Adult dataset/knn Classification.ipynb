{
 "cells": [
  {
   "attachments": {},
   "cell_type": "markdown",
   "metadata": {},
   "source": [
    "# KNN Classifier\n",
    "\n",
    "Aluno: Nathan Sampaio Santos | NUSP: 8988661"
   ]
  },
  {
   "attachments": {},
   "cell_type": "markdown",
   "metadata": {},
   "source": [
    "Importing required libraries"
   ]
  },
  {
   "cell_type": "code",
   "execution_count": 119,
   "metadata": {},
   "outputs": [],
   "source": [
    "from sklearn.metrics import precision_score, recall_score, accuracy_score\n",
    "from sklearn.model_selection import cross_val_score, KFold, train_test_split\n",
    "from sklearn.neighbors import KNeighborsClassifier\n",
    "from ucimlrepo import fetch_ucirepo\n",
    "import seaborn as sns\n",
    "import pandas as pd\n",
    "import numpy as np"
   ]
  },
  {
   "attachments": {},
   "cell_type": "markdown",
   "metadata": {},
   "source": [
    "Import Adult dataset "
   ]
  },
  {
   "cell_type": "code",
   "execution_count": 120,
   "metadata": {},
   "outputs": [],
   "source": [
    "adult    = fetch_ucirepo(id=2) \n",
    "\n",
    "dataset  = pd.merge(adult.data.features, adult.data.targets, left_index=True, right_index=True)\n",
    "var_info = adult.variables\n",
    "metadata = adult.metadata"
   ]
  },
  {
   "attachments": {},
   "cell_type": "markdown",
   "metadata": {},
   "source": [
    "Useful variables"
   ]
  },
  {
   "cell_type": "code",
   "execution_count": 121,
   "metadata": {},
   "outputs": [],
   "source": [
    "active_feature     = 1\n",
    "inactive_feature   = 0\n",
    "target             = \">50k\"\n",
    "training_variables = []\n",
    "\n",
    "numerical_vars     = var_info[var_info.type==\"Integer\"].name\n",
    "categorical_vars   = var_info[(var_info.type.isin([\"Binary\", \"Categorical\"])) & (var_info.name != \"income\")].name"
   ]
  },
  {
   "attachments": {},
   "cell_type": "markdown",
   "metadata": {},
   "source": [
    "Initial data treatments"
   ]
  },
  {
   "cell_type": "code",
   "execution_count": 122,
   "metadata": {},
   "outputs": [],
   "source": [
    "dataset                   = dataset.fillna(np.nan)\n",
    "dataset[target]           = dataset[\"income\"].map({'<=50K': inactive_feature, '>50K': active_feature, '<=50K.': inactive_feature, '>50K.': active_feature})\n",
    "dataset[\"workclass\"]      = dataset[\"workclass\"].fillna(\"X\")\n",
    "dataset[\"occupation\"]     = dataset[\"occupation\"].fillna(\"X\")\n",
    "dataset[\"native-country\"] = dataset[\"native-country\"].fillna(\"X\")"
   ]
  },
  {
   "attachments": {},
   "cell_type": "markdown",
   "metadata": {},
   "source": [
    "Check if there is no missing data in features"
   ]
  },
  {
   "cell_type": "code",
   "execution_count": 123,
   "metadata": {},
   "outputs": [
    {
     "data": {
      "text/plain": [
       "age               0\n",
       "workclass         0\n",
       "fnlwgt            0\n",
       "education         0\n",
       "education-num     0\n",
       "marital-status    0\n",
       "occupation        0\n",
       "relationship      0\n",
       "race              0\n",
       "sex               0\n",
       "capital-gain      0\n",
       "capital-loss      0\n",
       "hours-per-week    0\n",
       "native-country    0\n",
       "income            0\n",
       ">50k              0\n",
       "dtype: int64"
      ]
     },
     "execution_count": 123,
     "metadata": {},
     "output_type": "execute_result"
    }
   ],
   "source": [
    "dataset.isnull().sum()"
   ]
  },
  {
   "attachments": {},
   "cell_type": "markdown",
   "metadata": {},
   "source": [
    "Filtering relevant features\n",
    "\n",
    "In the next block, the code will calculate the probability of Income > 50k occurencies for each label in the categorical variables. For every label with frequency below .3 (30%), it will group those features into a single one. Otherwise, it will consider it in as a new feature."
   ]
  },
  {
   "cell_type": "code",
   "execution_count": 124,
   "metadata": {},
   "outputs": [],
   "source": [
    "group_variables = {}\n",
    "new_variables   = {}\n",
    "threshold       = .3\n",
    "\n",
    "for variable in categorical_vars:\n",
    "    variable_map = dataset[[variable, target]].groupby([variable]).mean().sort_values(target, ascending=False).reset_index()\n",
    "    \n",
    "    group_variables[variable] = []\n",
    "    new_variables[variable] = []\n",
    "\n",
    "    for index, category in variable_map.iterrows():\n",
    "        if (category[target] <= threshold):\n",
    "            group_variables[variable].append(category[variable])\n",
    "        else:\n",
    "            new_variables[variable].append(category[variable])"
   ]
  },
  {
   "attachments": {},
   "cell_type": "markdown",
   "metadata": {},
   "source": [
    "In the example below, the categories Bachelors, Masters, Doctorate and Porf-School will become new single features, because their probabilities are higher than 30%. The other ones will be grouped into a category Others."
   ]
  },
  {
   "cell_type": "code",
   "execution_count": 125,
   "metadata": {},
   "outputs": [
    {
     "data": {
      "text/plain": [
       "<Axes: xlabel='>50k', ylabel='education'>"
      ]
     },
     "execution_count": 125,
     "metadata": {},
     "output_type": "execute_result"
    },
    {
     "data": {
      "image/png": "[encoded data removed]",
      "text/plain": [
       "<Figure size 640x480 with 1 Axes>"
      ]
     },
     "metadata": {},
     "output_type": "display_data"
    }
   ],
   "source": [
    "variable = \"education\"\n",
    "education_prob = dataset[[variable, target]].groupby([variable]).mean().sort_values(target, ascending=True).reset_index()\n",
    "\n",
    "sns.barplot(education_prob, x=target, y=variable, hue=variable, palette=\"crest\", width=.8)\n"
   ]
  },
  {
   "cell_type": "code",
   "execution_count": 126,
   "metadata": {},
   "outputs": [
    {
     "name": "stdout",
     "output_type": "stream",
     "text": [
      "['Assoc-acdm', 'Assoc-voc', 'Some-college', 'HS-grad', '12th', '7th-8th', '10th', '9th', '5th-6th', '11th', '1st-4th', 'Preschool']\n"
     ]
    }
   ],
   "source": [
    "#Grouped labels for education\n",
    "print(group_variables[variable])"
   ]
  },
  {
   "cell_type": "code",
   "execution_count": 127,
   "metadata": {},
   "outputs": [
    {
     "name": "stdout",
     "output_type": "stream",
     "text": [
      "['Prof-school', 'Doctorate', 'Masters', 'Bachelors']\n"
     ]
    }
   ],
   "source": [
    "#New single features for education\n",
    "print(new_variables[variable])"
   ]
  },
  {
   "attachments": {},
   "cell_type": "markdown",
   "metadata": {},
   "source": [
    "Creating one-hot-encoding for features and adding them to the list of training variables"
   ]
  },
  {
   "cell_type": "code",
   "execution_count": 128,
   "metadata": {},
   "outputs": [],
   "source": [
    "for column in group_variables.keys():\n",
    "    if(len(group_variables[column])>0):\n",
    "        new_column_name = column + \"_others\"\n",
    "        training_variables.append(new_column_name)\n",
    "        dataset[new_column_name] = list(map(lambda x: active_feature if(x in group_variables[column]) else inactive_feature, dataset[column]))"
   ]
  },
  {
   "cell_type": "code",
   "execution_count": 129,
   "metadata": {},
   "outputs": [],
   "source": [
    "for column in new_variables.keys():\n",
    "    for feature in new_variables[column]:\n",
    "        new_column_name = column + \"_\" + feature\n",
    "        training_variables.append(new_column_name)\n",
    "        dataset[new_column_name] = list(map(lambda x: active_feature if(x == feature) else inactive_feature, dataset[column]))"
   ]
  },
  {
   "attachments": {},
   "cell_type": "markdown",
   "metadata": {},
   "source": [
    "Adding the numerical features to the list of training variables"
   ]
  },
  {
   "cell_type": "code",
   "execution_count": 130,
   "metadata": {},
   "outputs": [],
   "source": [
    "training_variables = training_variables + list(numerical_vars)"
   ]
  },
  {
   "attachments": {},
   "cell_type": "markdown",
   "metadata": {},
   "source": [
    "Treating capital gains and losses, since there is a high correlation between those values being diferent than zero and the person having an income higher than 50k"
   ]
  },
  {
   "cell_type": "code",
   "execution_count": 131,
   "metadata": {},
   "outputs": [],
   "source": [
    "name = \"capital_gains-loss\"\n",
    "dataset[name] = list(map(lambda x, y: active_feature if(x != 0 or y!=0) else inactive_feature, dataset[\"capital-gain\"], dataset[\"capital-loss\"]))\n",
    "training_variables.append(name)"
   ]
  },
  {
   "attachments": {},
   "cell_type": "markdown",
   "metadata": {},
   "source": [
    "Removing unuseful training variables"
   ]
  },
  {
   "cell_type": "code",
   "execution_count": 132,
   "metadata": {},
   "outputs": [],
   "source": [
    "training_variables.remove(\"capital-gain\")\n",
    "training_variables.remove(\"capital-loss\")\n",
    "training_variables.remove(\"fnlwgt\")\n",
    "training_variables.remove(\"hours-per-week\")\n",
    "\n",
    "#Education is a redundant variable, since it has a high correlation with the number of years of education\n",
    "training_variables = [x for x in training_variables if ((not x.startswith(\"education\")) or x.startswith(\"education-num\"))]"
   ]
  },
  {
   "attachments": {},
   "cell_type": "markdown",
   "metadata": {},
   "source": [
    "Final list of training variables"
   ]
  },
  {
   "cell_type": "code",
   "execution_count": 133,
   "metadata": {},
   "outputs": [
    {
     "name": "stdout",
     "output_type": "stream",
     "text": [
      "['workclass_others', 'marital-status_others', 'occupation_others', 'relationship_others', 'race_others', 'sex_others', 'native-country_others', 'workclass_Self-emp-inc', 'workclass_Federal-gov', 'marital-status_Married-civ-spouse', 'marital-status_Married-AF-spouse', 'occupation_Exec-managerial', 'occupation_Prof-specialty', 'occupation_Armed-Forces', 'occupation_Protective-serv', 'relationship_Wife', 'relationship_Husband', 'sex_Male', 'native-country_France', 'native-country_India', 'native-country_Taiwan', 'native-country_Iran', 'native-country_England', 'native-country_Greece', 'native-country_Yugoslavia', 'native-country_Japan', 'native-country_Canada', 'native-country_Italy', 'native-country_Cambodia', 'native-country_Hungary', 'age', 'education-num', 'capital_gains-loss']\n"
     ]
    }
   ],
   "source": [
    "print(training_variables)"
   ]
  },
  {
   "attachments": {},
   "cell_type": "markdown",
   "metadata": {},
   "source": [
    "Splitting the dataset into validation and training datasets"
   ]
  },
  {
   "cell_type": "code",
   "execution_count": 134,
   "metadata": {},
   "outputs": [],
   "source": [
    "X = dataset[training_variables].values\n",
    "Y = dataset[target].values\n",
    "\n",
    "validation_size = 0.20\n",
    "seed = 7\n",
    "num_folds = 10\n",
    "scoring = 'accuracy'\n",
    "X_train, X_validation, Y_train, Y_validation = train_test_split(X,Y,test_size=validation_size,random_state=seed)\n",
    "\n",
    "kfold = KFold(n_splits=num_folds, random_state=seed, shuffle=True)"
   ]
  },
  {
   "attachments": {},
   "cell_type": "markdown",
   "metadata": {},
   "source": [
    "Running the model with different n_neighbors to discover which has the higher accuracy based on the cross-validation test.\n",
    "\n",
    "The n goes from 1 to 50, with a 5 unit step"
   ]
  },
  {
   "cell_type": "code",
   "execution_count": 135,
   "metadata": {},
   "outputs": [
    {
     "name": "stdout",
     "output_type": "stream",
     "text": [
      "n: 1 | accuracy: 0.7910064645274902 | improvement: 0.7910064645274902\n",
      "n: 5 | accuracy: 0.823228575118695 | improvement: 0.03222211059120472\n",
      "n: 10 | accuracy: 0.8308040328109613 | improvement: 0.0075754576922663075\n",
      "n: 15 | accuracy: 0.8325442497640247 | improvement: 0.0017402169530634781\n",
      "n: 20 | accuracy: 0.8322117035821854 | improvement: -0.0003325461818393105\n",
      "n: 25 | accuracy: 0.8340800335015309 | improvement: 0.00153578373750618\n",
      "n: 30 | accuracy: 0.8340799025133745 | improvement: -1.3098815643264317e-07\n",
      "n: 35 | accuracy: 0.8357435110432185 | improvement: 0.001663477541687608\n",
      "n: 40 | accuracy: 0.8342590222677245 | improvement: -0.0014844887754940084\n",
      "n: 45 | accuracy: 0.8347708584885171 | improvement: -0.0009726525547014697\n",
      "n: 50 | accuracy: 0.8332097612898037 | improvement: -0.0025337497534148046\n"
     ]
    }
   ],
   "source": [
    "results       = None\n",
    "best_accuracy = 0\n",
    "\n",
    "for n in range(0, 51, 5):\n",
    "    n_neighbors = max(n,1)\n",
    "\n",
    "    cv_results = cross_val_score(KNeighborsClassifier(n_neighbors), X_train, Y_train, cv=kfold, scoring='accuracy')\n",
    "    current_accuracy = cv_results.mean()\n",
    "\n",
    "    improvement = current_accuracy - best_accuracy\n",
    "\n",
    "    results = pd.concat([results, pd.DataFrame([{'n_neighbors': n_neighbors, 'accuracy':current_accuracy, 'improvement' : improvement}])], ignore_index=True)\n",
    "    print(\"n: \" + str(n_neighbors) + \" | accuracy: \" + str(current_accuracy) + \" | improvement: \" + str(improvement))\n",
    "\n",
    "    best_accuracy = max(current_accuracy, best_accuracy)"
   ]
  },
  {
   "cell_type": "code",
   "execution_count": 136,
   "metadata": {},
   "outputs": [
    {
     "name": "stdout",
     "output_type": "stream",
     "text": [
      "Best n: \n",
      "\n",
      "n_neighbors    35.000000\n",
      "accuracy        0.835744\n",
      "improvement     0.001663\n",
      "Name: 7, dtype: float64\n"
     ]
    }
   ],
   "source": [
    "print(\"Best n: \\n\")\n",
    "print(results.iloc[results.accuracy.idxmax()])"
   ]
  },
  {
   "attachments": {},
   "cell_type": "markdown",
   "metadata": {},
   "source": [
    "Running the final validation test with the best classifier found"
   ]
  },
  {
   "cell_type": "code",
   "execution_count": 137,
   "metadata": {},
   "outputs": [],
   "source": [
    "best_n_neighbors = results.n_neighbors[results.accuracy.idxmax()]\n",
    "\n",
    "knn = KNeighborsClassifier(n_neighbors=best_n_neighbors)\n",
    "knn.fit(X_train, Y_train)\n",
    "y_pred = knn.predict(X_validation)"
   ]
  },
  {
   "attachments": {},
   "cell_type": "markdown",
   "metadata": {},
   "source": [
    "Final classifier model validation results"
   ]
  },
  {
   "cell_type": "code",
   "execution_count": 138,
   "metadata": {},
   "outputs": [
    {
     "name": "stdout",
     "output_type": "stream",
     "text": [
      "Accuracy: 0.8321220186303614\n",
      "Precision: 0.7277167277167277\n",
      "Recall: 0.49958088851634536\n"
     ]
    }
   ],
   "source": [
    "accuracy  = accuracy_score(Y_validation, y_pred)\n",
    "precision = precision_score(Y_validation, y_pred)\n",
    "recall    = recall_score(Y_validation, y_pred)\n",
    "\n",
    "print(\"Accuracy:\", accuracy)\n",
    "print(\"Precision:\", precision)\n",
    "print(\"Recall:\", recall)"
   ]
  }
 ],
 "metadata": {
  "kernelspec": {
   "display_name": "KNN-classifier",
   "language": "python",
   "name": "python3"
  },
  "language_info": {
   "codemirror_mode": {
    "name": "ipython",
    "version": 3
   },
   "file_extension": ".py",
   "mimetype": "text/x-python",
   "name": "python",
   "nbconvert_exporter": "python",
   "pygments_lexer": "ipython3",
   "version": "3.12.9"
  },
  "orig_nbformat": 4,
  "vscode": {
   "interpreter": {
    "hash": "36d061f351359776cfd9f05815a3ac3710591f68c83affeeefed2420586bd9ef"
   }
  }
 },
 "nbformat": 4,
 "nbformat_minor": 2
}
