{
 "cells": [
  {
   "attachments": {},
   "cell_type": "markdown",
   "metadata": {},
   "source": [
    "# KNN Classifier\n",
    "\n",
    "Aluno: Nathan Sampaio Santos | NUSP: 8988661"
   ]
  },
  {
   "attachments": {},
   "cell_type": "markdown",
   "metadata": {},
   "source": [
    "Importing required libraries"
   ]
  },
  {
   "cell_type": "code",
   "execution_count": 502,
   "metadata": {},
   "outputs": [],
   "source": [
    "from sklearn.metrics import precision_score, recall_score, accuracy_score\n",
    "from sklearn.model_selection import cross_val_score, KFold, train_test_split\n",
    "from sklearn.neighbors import KNeighborsClassifier\n",
    "from ucimlrepo import fetch_ucirepo\n",
    "import pandas as pd\n",
    "import numpy as np\n",
    "\n",
    "import seaborn as sns"
   ]
  },
  {
   "attachments": {},
   "cell_type": "markdown",
   "metadata": {},
   "source": [
    "Import Adult dataset "
   ]
  },
  {
   "cell_type": "code",
   "execution_count": 503,
   "metadata": {},
   "outputs": [],
   "source": [
    "adult    = fetch_ucirepo(id=2) \n",
    "\n",
    "dataset  = pd.merge(adult.data.features, adult.data.targets, left_index=True, right_index=True)\n",
    "var_info = adult.variables\n",
    "metadata = adult.metadata"
   ]
  },
  {
   "attachments": {},
   "cell_type": "markdown",
   "metadata": {},
   "source": [
    "Useful variables"
   ]
  },
  {
   "cell_type": "code",
   "execution_count": 504,
   "metadata": {},
   "outputs": [],
   "source": [
    "active_feature     = 1\n",
    "inactive_feature   = 0\n",
    "target             = \">50k\"\n",
    "training_variables = []"
   ]
  },
  {
   "attachments": {},
   "cell_type": "markdown",
   "metadata": {},
   "source": [
    "Initial data treatments"
   ]
  },
  {
   "cell_type": "code",
   "execution_count": 505,
   "metadata": {},
   "outputs": [],
   "source": [
    "dataset                   = dataset.fillna(np.nan)\n",
    "dataset[target]           = dataset[\"income\"].map({'<=50K': inactive_feature, '>50K': active_feature, '<=50K.': inactive_feature, '>50K.': active_feature})\n",
    "dataset[\"workclass\"]      = dataset[\"workclass\"].fillna(\"X\")\n",
    "dataset[\"occupation\"]     = dataset[\"occupation\"].fillna(\"X\")\n",
    "dataset[\"native-country\"] = dataset[\"native-country\"].fillna(\"X\")"
   ]
  },
  {
   "cell_type": "code",
   "execution_count": 506,
   "metadata": {},
   "outputs": [
    {
     "data": {
      "text/plain": [
       "age               0\n",
       "workclass         0\n",
       "fnlwgt            0\n",
       "education         0\n",
       "education-num     0\n",
       "marital-status    0\n",
       "occupation        0\n",
       "relationship      0\n",
       "race              0\n",
       "sex               0\n",
       "capital-gain      0\n",
       "capital-loss      0\n",
       "hours-per-week    0\n",
       "native-country    0\n",
       "income            0\n",
       ">50k              0\n",
       "dtype: int64"
      ]
     },
     "execution_count": 506,
     "metadata": {},
     "output_type": "execute_result"
    }
   ],
   "source": [
    "dataset.isnull().sum()"
   ]
  },
  {
   "cell_type": "code",
   "execution_count": 507,
   "metadata": {},
   "outputs": [],
   "source": [
    "numerical_vars   = var_info[var_info.type==\"Integer\"].name\n",
    "categorical_vars = var_info[(var_info.type.isin([\"Binary\", \"Categorical\"])) & (var_info.name != \"income\")].name"
   ]
  },
  {
   "attachments": {},
   "cell_type": "markdown",
   "metadata": {},
   "source": [
    "#### Explicacao"
   ]
  },
  {
   "cell_type": "code",
   "execution_count": 508,
   "metadata": {},
   "outputs": [],
   "source": [
    "group_variables = {}\n",
    "new_variables   = {}\n",
    "threshold       = .3\n",
    "\n",
    "for variable in categorical_vars:\n",
    "    variable_map = dataset[[variable, target]].groupby([variable]).mean().sort_values(target, ascending=False)\n",
    "    variable_map = variable_map.reset_index()\n",
    "    group_variables[variable] = []\n",
    "    new_variables[variable] = []\n",
    "\n",
    "    for index, category in variable_map.iterrows():\n",
    "        if (category[target] <= threshold):\n",
    "            group_variables[variable].append(category[variable])\n",
    "        else:\n",
    "            new_variables[variable].append(category[variable])"
   ]
  },
  {
   "attachments": {},
   "cell_type": "markdown",
   "metadata": {},
   "source": [
    "Creating one-hot-encoding for categorical variables"
   ]
  },
  {
   "cell_type": "code",
   "execution_count": 509,
   "metadata": {},
   "outputs": [],
   "source": [
    "for column in group_variables.keys():\n",
    "    if(len(group_variables[column])>0):\n",
    "        new_column_name = column + \"_others\"\n",
    "        training_variables.append(new_column_name)\n",
    "        dataset[new_column_name] = list(map(lambda x: active_feature if(x in group_variables[column]) else inactive_feature, dataset[column]))"
   ]
  },
  {
   "cell_type": "code",
   "execution_count": 510,
   "metadata": {},
   "outputs": [],
   "source": [
    "for column in new_variables.keys():\n",
    "    for feature in new_variables[column]:\n",
    "        new_column_name = column + \"_\" + feature\n",
    "        training_variables.append(new_column_name)\n",
    "        dataset[new_column_name] = list(map(lambda x: active_feature if(x == feature) else inactive_feature, dataset[column]))"
   ]
  },
  {
   "cell_type": "code",
   "execution_count": 511,
   "metadata": {},
   "outputs": [],
   "source": [
    "training_variables = training_variables + list(numerical_vars)"
   ]
  },
  {
   "cell_type": "code",
   "execution_count": 512,
   "metadata": {},
   "outputs": [],
   "source": [
    "name = \"capital_gains-loss\"\n",
    "dataset[name] = list(map(lambda x, y: active_feature if(x != 0 or y!=0) else inactive_feature, dataset[\"capital-gain\"], dataset[\"capital-loss\"]))\n",
    "training_variables.append(name)"
   ]
  },
  {
   "attachments": {},
   "cell_type": "markdown",
   "metadata": {},
   "source": [
    "Removing unuseful training variables"
   ]
  },
  {
   "cell_type": "code",
   "execution_count": 513,
   "metadata": {},
   "outputs": [],
   "source": [
    "training_variables.remove(\"capital-gain\")\n",
    "training_variables.remove(\"capital-loss\")\n",
    "training_variables.remove(\"fnlwgt\")\n",
    "training_variables.remove(\"hours-per-week\")\n",
    "\n",
    "training_variables = [x for x in training_variables if ((not x.startswith(\"education\")) or x.startswith(\"education-num\"))]"
   ]
  },
  {
   "cell_type": "code",
   "execution_count": 514,
   "metadata": {},
   "outputs": [],
   "source": [
    "X = dataset[training_variables].values\n",
    "Y = dataset[target].values\n",
    "\n",
    "validation_size = 0.20\n",
    "seed = 7\n",
    "num_folds = 10\n",
    "scoring = 'accuracy'\n",
    "X_train, X_validation, Y_train, Y_validation = train_test_split(X,Y,test_size=validation_size,random_state=seed)\n",
    "\n",
    "kfold = KFold(n_splits=num_folds, random_state=seed, shuffle=True)\n",
    "\n"
   ]
  },
  {
   "cell_type": "code",
   "execution_count": 515,
   "metadata": {},
   "outputs": [
    {
     "name": "stdout",
     "output_type": "stream",
     "text": [
      "n: 1 | accuracy: 0.7910064645274902 | improvement: 0.7910064645274902\n",
      "n: 5 | accuracy: 0.823228575118695 | improvement: 0.03222211059120472\n",
      "n: 10 | accuracy: 0.8308040328109613 | improvement: 0.0075754576922663075\n",
      "n: 15 | accuracy: 0.8325442497640247 | improvement: 0.0017402169530634781\n",
      "n: 20 | accuracy: 0.8322117035821854 | improvement: -0.0003325461818393105\n",
      "n: 25 | accuracy: 0.8340800335015309 | improvement: 0.00153578373750618\n",
      "n: 30 | accuracy: 0.8340799025133745 | improvement: -1.3098815643264317e-07\n",
      "n: 35 | accuracy: 0.8357435110432185 | improvement: 0.001663477541687608\n",
      "n: 40 | accuracy: 0.8342590222677245 | improvement: -0.0014844887754940084\n",
      "n: 45 | accuracy: 0.8347708584885171 | improvement: -0.0009726525547014697\n",
      "n: 50 | accuracy: 0.8332097612898037 | improvement: -0.0025337497534148046\n"
     ]
    }
   ],
   "source": [
    "results       = None\n",
    "best_accuracy = 0\n",
    "\n",
    "for n in range(0, 51, 5):\n",
    "    n_neighbors = max(n,1)\n",
    "\n",
    "    cv_results = cross_val_score(KNeighborsClassifier(n_neighbors), X_train, Y_train, cv=kfold, scoring='accuracy')\n",
    "    current_accuracy = cv_results.mean()\n",
    "\n",
    "    improvement = current_accuracy - best_accuracy\n",
    "\n",
    "    results = pd.concat([results, pd.DataFrame([{'n_neighbors': n_neighbors, 'accuracy':current_accuracy, 'improvement' : improvement}])], ignore_index=True)\n",
    "    print(\"n: \" + str(n_neighbors) + \" | accuracy: \" + str(current_accuracy) + \" | improvement: \" + str(improvement))\n",
    "\n",
    "    best_accuracy = max(current_accuracy, best_accuracy)\n"
   ]
  },
  {
   "cell_type": "code",
   "execution_count": 516,
   "metadata": {},
   "outputs": [
    {
     "name": "stdout",
     "output_type": "stream",
     "text": [
      "Best n: \n",
      "\n",
      "n_neighbors    35.000000\n",
      "accuracy        0.835744\n",
      "improvement     0.001663\n",
      "Name: 7, dtype: float64\n"
     ]
    }
   ],
   "source": [
    "print(\"Best n: \\n\")\n",
    "print(results.iloc[results.accuracy.idxmax()])"
   ]
  },
  {
   "cell_type": "code",
   "execution_count": 517,
   "metadata": {},
   "outputs": [],
   "source": [
    "best_n_neighbors = results.n_neighbors[results.accuracy.idxmax()]\n",
    "\n",
    "knn = KNeighborsClassifier(n_neighbors=best_n_neighbors)\n",
    "knn.fit(X_train, Y_train)\n",
    "y_pred = knn.predict(X_validation)"
   ]
  },
  {
   "attachments": {},
   "cell_type": "markdown",
   "metadata": {},
   "source": [
    "Final classifier model validation"
   ]
  },
  {
   "cell_type": "code",
   "execution_count": 518,
   "metadata": {},
   "outputs": [
    {
     "name": "stdout",
     "output_type": "stream",
     "text": [
      "Accuracy: 0.8321220186303614\n",
      "Precision: 0.7277167277167277\n",
      "Recall: 0.49958088851634536\n"
     ]
    }
   ],
   "source": [
    "accuracy = accuracy_score(Y_validation, y_pred)\n",
    "precision = precision_score(Y_validation, y_pred)\n",
    "recall = recall_score(Y_validation, y_pred)\n",
    "\n",
    "print(\"Accuracy:\", accuracy)\n",
    "print(\"Precision:\", precision)\n",
    "print(\"Recall:\", recall)"
   ]
  }
 ],
 "metadata": {
  "kernelspec": {
   "display_name": "KNN-classifier",
   "language": "python",
   "name": "python3"
  },
  "language_info": {
   "codemirror_mode": {
    "name": "ipython",
    "version": 3
   },
   "file_extension": ".py",
   "mimetype": "text/x-python",
   "name": "python",
   "nbconvert_exporter": "python",
   "pygments_lexer": "ipython3",
   "version": "3.12.9"
  },
  "orig_nbformat": 4,
  "vscode": {
   "interpreter": {
    "hash": "36d061f351359776cfd9f05815a3ac3710591f68c83affeeefed2420586bd9ef"
   }
  }
 },
 "nbformat": 4,
 "nbformat_minor": 2
}
