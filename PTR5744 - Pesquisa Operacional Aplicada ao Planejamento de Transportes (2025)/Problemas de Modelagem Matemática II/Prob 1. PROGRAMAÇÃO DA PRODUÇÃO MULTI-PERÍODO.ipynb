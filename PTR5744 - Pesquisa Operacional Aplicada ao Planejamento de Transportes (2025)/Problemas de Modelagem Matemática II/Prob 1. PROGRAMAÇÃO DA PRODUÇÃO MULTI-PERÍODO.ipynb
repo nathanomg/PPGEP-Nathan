{
 "cells": [
  {
   "attachments": {},
   "cell_type": "markdown",
   "metadata": {},
   "source": [
    "**# Problema 1: PROGRAMAÇÃO DA PRODUÇÃO MULTI-PERÍODO**"
   ]
  },
  {
   "attachments": {},
   "cell_type": "markdown",
   "metadata": {},
   "source": [
    "Importacao bibliotecas"
   ]
  },
  {
   "cell_type": "code",
   "execution_count": 7,
   "metadata": {},
   "outputs": [],
   "source": [
    "from pulp import *"
   ]
  },
  {
   "attachments": {},
   "cell_type": "markdown",
   "metadata": {},
   "source": [
    "Função Objetivo: Min [Producao]*[Custo Producao] + [Estoque]*[Custo Estoque] \n",
    "\n",
    "Restrições (para cada mês i):\n",
    "\n",
    "[Produção_i] + [Estoque_i] >= [Demanda_i]\n",
    "\n",
    "[Estoque_i] = [Produção_i-1] + [Estoque_i-1] - [Demanda_i-1]\n",
    "\n",
    "[Estoque_0] = 0"
   ]
  },
  {
   "cell_type": "code",
   "execution_count": 8,
   "metadata": {},
   "outputs": [
    {
     "name": "stdout",
     "output_type": "stream",
     "text": [
      "estoque_A_0 = 0.0\n",
      "estoque_A_1 = 1000.0\n",
      "estoque_A_2 = 0.0\n",
      "estoque_A_3 = 1000.0\n",
      "estoque_A_4 = 500.0\n",
      "estoque_A_5 = 1000.0\n",
      "estoque_A_6 = 800.0\n",
      "estoque_A_7 = 1000.0\n",
      "estoque_A_8 = 0.0\n",
      "estoque_A_9 = -0.0\n",
      "producao_A_0 = 2000.0\n",
      "producao_A_1 = 500.0\n",
      "producao_A_2 = 3000.0\n",
      "producao_A_3 = 3000.0\n",
      "producao_A_4 = 3000.0\n",
      "producao_A_5 = 3000.0\n",
      "producao_A_6 = 3000.0\n",
      "producao_A_7 = 3000.0\n",
      "producao_A_8 = 2000.0\n",
      "producao_A_9 = 2500.0\n",
      "FO = 3328500.0\n",
      "Current Status = Optimal\n"
     ]
    }
   ],
   "source": [
    "problem = LpProblem(\"ProblemaProducao\", LpMinimize)\n",
    "\n",
    "custo_producao_A = [ 120,  126,  129,  140,  135,  138,  133,  130,  130,  128] #R$/unidade\n",
    "custo_estoque_A  = [   5,    5,    7,    8,    7,    6,    5,    4,    4,    4] #R$/unidade\n",
    "demanda_A        = [1000, 1500, 2000, 3500, 2500, 3200, 2800, 4000, 2000, 2500] #Unidade/mes\n",
    "\n",
    "N = len(demanda_A)\n",
    "meses = list(range(N))\n",
    "\n",
    "producao_A = LpVariable.dicts(\"producao_A\", meses, lowBound=0,  upBound=3000)\n",
    "estoque_A  = LpVariable.dicts(\"estoque_A\", meses, lowBound=0,  upBound=1000)\n",
    "\n",
    "\n",
    "#Objective function\n",
    "problem += lpSum([producao_A[i]*custo_producao_A[i] + custo_estoque_A[i]*estoque_A[i] for i in meses])\n",
    "\n",
    "#Constraints\n",
    "problem += estoque_A[0] == 0\n",
    "\n",
    "for i in meses:       problem += producao_A[i] + estoque_A[i] >= demanda_A[i]\n",
    "for i in range(1, N): problem += estoque_A[i] == producao_A[i-1] + estoque_A[i-1] - demanda_A[i-1]\n",
    "\n",
    "#Solve\n",
    "problem.solve(PULP_CBC_CMD(msg=0))\n",
    "\n",
    "#Resultados\n",
    "for v in problem.variables():\n",
    "    print(v.name, \"=\", v.varValue)\n",
    "\n",
    "print(\"FO =\", value(problem.objective))\n",
    "\n",
    "print(\"Current Status =\", LpStatus[problem.status])"
   ]
  },
  {
   "cell_type": "code",
   "execution_count": 9,
   "metadata": {},
   "outputs": [],
   "source": [
    "\n",
    "custo_producao_B = [ 82, 90, 92, 87, 85, 95, 91, 88, 85, 90] #R$/unidade\n",
    "custo_estoque_B  = [5, 4, 6, 3, 2, 8, 4, 4, 3, 2] #R$/unidade\n",
    "demanda_B        = [600, 950, 900, 800, 1200, 1000, 1300, 1500, 1100, 1000] #Unidade/mes\n",
    "\n",
    "N = len(demanda_A)\n",
    "meses = list(range(N))\n",
    "\n",
    "producao_B = LpVariable.dicts(\"producao_B\", meses, lowBound=0,  upBound=1500)\n",
    "estoque_B  = LpVariable.dicts(\"estoque_B\", meses, lowBound=0,  upBound=1000)\n",
    "\n",
    "\n",
    "#Objective function\n",
    "problem += lpSum([producao_A[i]*custo_producao_A[i] + custo_estoque_A[i]*estoque_A[i] +\n",
    "                  producao_B[i]*custo_producao_B[i] + custo_estoque_B[i]*estoque_B[i] \n",
    "                  for i in meses])\n",
    "\n",
    "#Constraints\n",
    "problem += estoque_B[0] == 0\n",
    "\n",
    "for i in meses:       problem += producao_B[i] + estoque_B[i] >= demanda_B[i]\n",
    "for i in range(1, N): problem += estoque_B[i] == producao_B[i-1] + estoque_B[i-1] - demanda_B[i-1]\n"
   ]
  },
  {
   "cell_type": "code",
   "execution_count": 10,
   "metadata": {},
   "outputs": [
    {
     "name": "stdout",
     "output_type": "stream",
     "text": [
      "estoque_A_0 = 0.0\n",
      "estoque_A_1 = 1000.0\n",
      "estoque_A_2 = 0.0\n",
      "estoque_A_3 = 1000.0\n",
      "estoque_A_4 = 500.0\n",
      "estoque_A_5 = 1000.0\n",
      "estoque_A_6 = 800.0\n",
      "estoque_A_7 = 1000.0\n",
      "estoque_A_8 = 0.0\n",
      "estoque_A_9 = -0.0\n",
      "estoque_B_0 = 0.0\n",
      "estoque_B_1 = 900.0\n",
      "estoque_B_2 = 0.0\n",
      "estoque_B_3 = 0.0\n",
      "estoque_B_4 = 0.0\n",
      "estoque_B_5 = 300.0\n",
      "estoque_B_6 = 0.0\n",
      "estoque_B_7 = 0.0\n",
      "estoque_B_8 = 0.0\n",
      "estoque_B_9 = 400.0\n",
      "producao_A_0 = 2000.0\n",
      "producao_A_1 = 500.0\n",
      "producao_A_2 = 3000.0\n",
      "producao_A_3 = 3000.0\n",
      "producao_A_4 = 3000.0\n",
      "producao_A_5 = 3000.0\n",
      "producao_A_6 = 3000.0\n",
      "producao_A_7 = 3000.0\n",
      "producao_A_8 = 2000.0\n",
      "producao_A_9 = 2500.0\n",
      "producao_B_0 = 1500.0\n",
      "producao_B_1 = 50.0\n",
      "producao_B_2 = 900.0\n",
      "producao_B_3 = 800.0\n",
      "producao_B_4 = 1500.0\n",
      "producao_B_5 = 700.0\n",
      "producao_B_6 = 1300.0\n",
      "producao_B_7 = 1500.0\n",
      "producao_B_8 = 1500.0\n",
      "producao_B_9 = 600.0\n",
      "FO = 4241000.0\n",
      "Current Status = Optimal\n"
     ]
    }
   ],
   "source": [
    "#Solve\n",
    "problem.solve(PULP_CBC_CMD(msg=0))\n",
    "\n",
    "#Resultados\n",
    "for v in problem.variables():\n",
    "    print(v.name, \"=\", v.varValue)\n",
    "\n",
    "print(\"FO =\", value(problem.objective))\n",
    "\n",
    "print(\"Current Status =\", LpStatus[problem.status])"
   ]
  },
  {
   "attachments": {},
   "cell_type": "markdown",
   "metadata": {},
   "source": [
    "O plano de produção de A não mudou"
   ]
  },
  {
   "cell_type": "code",
   "execution_count": 11,
   "metadata": {},
   "outputs": [],
   "source": [
    "for i in meses:\n",
    "    problem += producao_A[i] + producao_B[i] <= 4000\n",
    "    problem += estoque_A[i] + estoque_B[i] <= 1800\n"
   ]
  },
  {
   "cell_type": "code",
   "execution_count": 12,
   "metadata": {},
   "outputs": [
    {
     "name": "stdout",
     "output_type": "stream",
     "text": [
      "estoque_A_0 = 0.0\n",
      "estoque_A_1 = 900.0\n",
      "estoque_A_2 = 500.0\n",
      "estoque_A_3 = 1000.0\n",
      "estoque_A_4 = 500.0\n",
      "estoque_A_5 = 1000.0\n",
      "estoque_A_6 = 800.0\n",
      "estoque_A_7 = 1000.0\n",
      "estoque_A_8 = 0.0\n",
      "estoque_A_9 = 0.0\n",
      "estoque_B_0 = 0.0\n",
      "estoque_B_1 = 900.0\n",
      "estoque_B_2 = 200.0\n",
      "estoque_B_3 = 800.0\n",
      "estoque_B_4 = 1000.0\n",
      "estoque_B_5 = 800.0\n",
      "estoque_B_6 = 800.0\n",
      "estoque_B_7 = 500.0\n",
      "estoque_B_8 = 0.0\n",
      "estoque_B_9 = 400.0\n",
      "producao_A_0 = 1900.0\n",
      "producao_A_1 = 1100.0\n",
      "producao_A_2 = 2500.0\n",
      "producao_A_3 = 3000.0\n",
      "producao_A_4 = 3000.0\n",
      "producao_A_5 = 3000.0\n",
      "producao_A_6 = 3000.0\n",
      "producao_A_7 = 3000.0\n",
      "producao_A_8 = 2000.0\n",
      "producao_A_9 = 2500.0\n",
      "producao_B_0 = 1500.0\n",
      "producao_B_1 = 250.0\n",
      "producao_B_2 = 1500.0\n",
      "producao_B_3 = 1000.0\n",
      "producao_B_4 = 1000.0\n",
      "producao_B_5 = 1000.0\n",
      "producao_B_6 = 1000.0\n",
      "producao_B_7 = 1000.0\n",
      "producao_B_8 = 1500.0\n",
      "producao_B_9 = 600.0\n",
      "FO = 4263200.0\n",
      "Current Status = Optimal\n"
     ]
    }
   ],
   "source": [
    "#Solve\n",
    "problem.solve(PULP_CBC_CMD(msg=0))\n",
    "\n",
    "#Resultados\n",
    "for v in problem.variables():\n",
    "    print(v.name, \"=\", v.varValue)\n",
    "\n",
    "print(\"FO =\", value(problem.objective))\n",
    "\n",
    "print(\"Current Status =\", LpStatus[problem.status])"
   ]
  }
 ],
 "metadata": {
  "kernelspec": {
   "display_name": "PO-Otimizacao",
   "language": "python",
   "name": "python3"
  },
  "language_info": {
   "codemirror_mode": {
    "name": "ipython",
    "version": 3
   },
   "file_extension": ".py",
   "mimetype": "text/x-python",
   "name": "python",
   "nbconvert_exporter": "python",
   "pygments_lexer": "ipython3",
   "version": "3.12.9"
  },
  "orig_nbformat": 4,
  "vscode": {
   "interpreter": {
    "hash": "b963d41c2e1d713a28cf55ec24dc6ffece7cb27ccfb3cc0807eb89afcc27d056"
   }
  }
 },
 "nbformat": 4,
 "nbformat_minor": 2
}
