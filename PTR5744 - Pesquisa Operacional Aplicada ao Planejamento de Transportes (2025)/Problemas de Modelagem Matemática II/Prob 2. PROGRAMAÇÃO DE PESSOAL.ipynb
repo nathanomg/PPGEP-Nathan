{
 "cells": [
  {
   "attachments": {},
   "cell_type": "markdown",
   "metadata": {},
   "source": [
    "**# Problema 2: PROGRAMAÇÃO DE PESSOAL**"
   ]
  },
  {
   "attachments": {},
   "cell_type": "markdown",
   "metadata": {},
   "source": [
    "Importação Bibliotecas"
   ]
  },
  {
   "cell_type": "code",
   "execution_count": 1,
   "metadata": {},
   "outputs": [],
   "source": [
    "from pulp import *"
   ]
  },
  {
   "cell_type": "code",
   "execution_count": 2,
   "metadata": {},
   "outputs": [],
   "source": [
    "problem = LpProblem(\"ProblemaProducao\", LpMinimize)\n",
    "\n",
    "empregados_requeridos = [ 17,  13,  15,  19,  14,  16,  11] #n funcionarios/dia\n",
    "\n",
    "N = len(empregados_requeridos)\n",
    "dias = list(range(N))\n",
    "\n",
    "funcionarios = LpVariable.dicts(\"funcionarios\", dias, lowBound=0, cat=\"Integer\")\n",
    "\n",
    "#Objective function\n",
    "problem += lpSum([funcionarios[i] for i in dias])\n",
    "\n",
    "#Constraints\n",
    "for d in dias:\n",
    "    problem += lpSum([funcionarios[(N-i+d)%N] for i in range(5)]) >= empregados_requeridos[d]\n"
   ]
  },
  {
   "cell_type": "code",
   "execution_count": 3,
   "metadata": {},
   "outputs": [],
   "source": [
    "#Solve\n",
    "result = problem.solve(PULP_CBC_CMD(msg=0))"
   ]
  },
  {
   "cell_type": "code",
   "execution_count": 4,
   "metadata": {},
   "outputs": [
    {
     "name": "stdout",
     "output_type": "stream",
     "text": [
      "funcionarios_0 = 2.0\n",
      "funcionarios_1 = 6.0\n",
      "funcionarios_2 = 0.0\n",
      "funcionarios_3 = 7.0\n",
      "funcionarios_4 = 0.0\n",
      "funcionarios_5 = 3.0\n",
      "funcionarios_6 = 5.0\n",
      "FO = 23.0\n",
      "Current Status = Optimal\n"
     ]
    }
   ],
   "source": [
    "#Resultados\n",
    "for v in problem.variables():\n",
    "    print(v.name, \"=\", v.varValue)\n",
    "\n",
    "print(\"FO =\", value(problem.objective))\n",
    "\n",
    "print(\"Current Status =\", LpStatus[problem.status])"
   ]
  }
 ],
 "metadata": {
  "kernelspec": {
   "display_name": "PO-Otimizacao",
   "language": "python",
   "name": "python3"
  },
  "language_info": {
   "codemirror_mode": {
    "name": "ipython",
    "version": 3
   },
   "file_extension": ".py",
   "mimetype": "text/x-python",
   "name": "python",
   "nbconvert_exporter": "python",
   "pygments_lexer": "ipython3",
   "version": "3.12.9"
  },
  "orig_nbformat": 4,
  "vscode": {
   "interpreter": {
    "hash": "b963d41c2e1d713a28cf55ec24dc6ffece7cb27ccfb3cc0807eb89afcc27d056"
   }
  }
 },
 "nbformat": 4,
 "nbformat_minor": 2
}
