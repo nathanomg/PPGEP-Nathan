{
 "cells": [
  {
   "attachments": {},
   "cell_type": "markdown",
   "metadata": {},
   "source": [
    "**# Problema 4: CUSTO FIXO**"
   ]
  },
  {
   "attachments": {},
   "cell_type": "markdown",
   "metadata": {},
   "source": [
    "Importação Bibliotecas"
   ]
  },
  {
   "cell_type": "code",
   "execution_count": 1,
   "metadata": {},
   "outputs": [],
   "source": [
    "from pulp import *"
   ]
  },
  {
   "cell_type": "code",
   "execution_count": 2,
   "metadata": {},
   "outputs": [],
   "source": [
    "problem = LpProblem(\"ProblemaMixProducao\", LpMaximize)\n",
    "\n",
    "produto_custo_fixo = [200, 150, 100]\n",
    "produto_MO         = [  3,   2,   6] #h/unidade\n",
    "produto_materia    = [  4,   3,   5] #unidade/produto\n",
    "produto_custo      = [  6,   4,   8] #$/produto\n",
    "produto_venda      = [ 12,   9,  15] #$/produto\n",
    "produto_qtd_max    = [ 60,  80,  40] #$/produto\n",
    "\n",
    "horas_MO = 300 #horas\n",
    "materia  = 320 #unidades\n",
    "\n",
    "produtos = list(range(len(produto_custo)))\n",
    "\n",
    "produto_producao = LpVariable.dicts(\"produto_producao\", produtos, lowBound=0, cat=\"Integer\")\n",
    "\n",
    "#Objective function\n",
    "problem += lpSum([produto_producao[p]*(produto_venda[p]-produto_custo[p]) - produto_custo_fixo[p] for p in produtos])\n",
    "\n",
    "#Constraints\n",
    "for p in produtos:\n",
    "    problem += produto_producao[p] <= produto_qtd_max[p]\n",
    "\n",
    "problem += lpSum([produto_producao[p]*produto_materia[p] for p in produtos]) <= materia\n",
    "problem += lpSum([produto_producao[p]*produto_MO[p] for p in produtos]) <= horas_MO\n"
   ]
  },
  {
   "cell_type": "code",
   "execution_count": 3,
   "metadata": {},
   "outputs": [],
   "source": [
    "#Solve\n",
    "result = problem.solve(PULP_CBC_CMD(msg=0))"
   ]
  },
  {
   "cell_type": "code",
   "execution_count": 4,
   "metadata": {},
   "outputs": [
    {
     "name": "stdout",
     "output_type": "stream",
     "text": [
      "produto_producao_0 = 20.0\n",
      "produto_producao_1 = 80.0\n",
      "produto_producao_2 = 0.0\n",
      "FO = 70.0\n",
      "Current Status = Optimal\n"
     ]
    }
   ],
   "source": [
    "#Resultados\n",
    "for v in problem.variables():\n",
    "    print(v.name, \"=\", v.varValue)\n",
    "\n",
    "print(\"FO =\", value(problem.objective))\n",
    "\n",
    "print(\"Current Status =\", LpStatus[problem.status])"
   ]
  }
 ],
 "metadata": {
  "kernelspec": {
   "display_name": "PO-Otimizacao",
   "language": "python",
   "name": "python3"
  },
  "language_info": {
   "codemirror_mode": {
    "name": "ipython",
    "version": 3
   },
   "file_extension": ".py",
   "mimetype": "text/x-python",
   "name": "python",
   "nbconvert_exporter": "python",
   "pygments_lexer": "ipython3",
   "version": "3.12.9"
  },
  "orig_nbformat": 4,
  "vscode": {
   "interpreter": {
    "hash": "b963d41c2e1d713a28cf55ec24dc6ffece7cb27ccfb3cc0807eb89afcc27d056"
   }
  }
 },
 "nbformat": 4,
 "nbformat_minor": 2
}
