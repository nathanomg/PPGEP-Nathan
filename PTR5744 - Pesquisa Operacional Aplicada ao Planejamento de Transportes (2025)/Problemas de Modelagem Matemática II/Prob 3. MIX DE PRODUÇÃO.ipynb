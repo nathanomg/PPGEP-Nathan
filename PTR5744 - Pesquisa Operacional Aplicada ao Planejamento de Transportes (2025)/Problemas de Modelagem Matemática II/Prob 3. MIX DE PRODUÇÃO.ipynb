{
 "cells": [
  {
   "attachments": {},
   "cell_type": "markdown",
   "metadata": {},
   "source": [
    "**# Problema 3: MIX DE PRODUÇÃO**"
   ]
  },
  {
   "attachments": {},
   "cell_type": "markdown",
   "metadata": {},
   "source": [
    "Importação Bibliotecas"
   ]
  },
  {
   "cell_type": "code",
   "execution_count": 1,
   "metadata": {},
   "outputs": [],
   "source": [
    "from pulp import *"
   ]
  },
  {
   "cell_type": "code",
   "execution_count": 2,
   "metadata": {},
   "outputs": [],
   "source": [
    "problem = LpProblem(\"ProblemaMixProducao\", LpMaximize)\n",
    "\n",
    "combustivel_octanagem   = [  92,   95,  100]\n",
    "combustivel_preco_venda = [ 800,  850,  900] #R$/m3\n",
    "combustivel_demanda     = [ 120,   80,   40] #m3\n",
    "\n",
    "mistura_octanagem   = [  90,  100,  110]\n",
    "mistura_custo       = [ 380,  420,  450] #R$/m3\n",
    "mistura_disp        = [ 120,  100,   70] #m3\n",
    "\n",
    "\n",
    "combustiveis = list(range(len(combustivel_octanagem)))\n",
    "misturas     = list(range(len(mistura_octanagem)))\n",
    "\n",
    "\n",
    "combustivel_custo    = LpVariable.dicts(\"combustivel_custo\", combustiveis, lowBound=0)\n",
    "combustivel_producao = LpVariable.dicts(\"combustivel_producao\", combustiveis, lowBound=0)\n",
    "mistura_producao     = LpVariable.dicts(\"mistura_producao\", [(c,m) for c in combustiveis for m in misturas], lowBound=0)\n",
    "\n",
    "\n",
    "#Objective function\n",
    "problem += lpSum([combustivel_producao[c]*combustivel_preco_venda[c]-combustivel_custo[c] for c in combustiveis])\n",
    "\n",
    "#Constraints\n",
    "for c in combustiveis:\n",
    "    problem += combustivel_producao[c] <= combustivel_demanda[c]\n",
    "    problem += combustivel_custo[c] == lpSum([mistura_producao[c,m]*mistura_custo[m] for m in misturas])\n",
    "    problem += combustivel_octanagem[c]*lpSum([mistura_producao[c,m] for m in misturas]) == lpSum([mistura_producao[c,m]*mistura_octanagem[m] for m in misturas])\n",
    "    problem += lpSum([mistura_producao[c,m] for m in misturas]) == combustivel_producao[c]\n",
    "\n",
    "\n",
    "for m in misturas:\n",
    "    problem += lpSum([mistura_producao[(c,m)] for c in combustiveis]) <= mistura_disp[m]"
   ]
  },
  {
   "cell_type": "code",
   "execution_count": 3,
   "metadata": {},
   "outputs": [],
   "source": [
    "#Solve\n",
    "result = problem.solve(PULP_CBC_CMD(msg=0))"
   ]
  },
  {
   "cell_type": "code",
   "execution_count": 4,
   "metadata": {},
   "outputs": [
    {
     "name": "stdout",
     "output_type": "stream",
     "text": [
      "combustivel_custo_0 = 38800.0\n",
      "combustivel_custo_1 = 32000.0\n",
      "combustivel_custo_2 = 16800.0\n",
      "combustivel_producao_0 = 100.0\n",
      "combustivel_producao_1 = 80.0\n",
      "combustivel_producao_2 = 40.0\n",
      "mistura_producao_(0,_0) = 80.0\n",
      "mistura_producao_(0,_1) = 20.0\n",
      "mistura_producao_(0,_2) = 0.0\n",
      "mistura_producao_(1,_0) = 40.0\n",
      "mistura_producao_(1,_1) = 40.0\n",
      "mistura_producao_(1,_2) = 0.0\n",
      "mistura_producao_(2,_0) = 0.0\n",
      "mistura_producao_(2,_1) = 40.0\n",
      "mistura_producao_(2,_2) = 0.0\n",
      "FO = 96400.0\n",
      "Current Status = Optimal\n"
     ]
    }
   ],
   "source": [
    "#Resultados\n",
    "for v in problem.variables():\n",
    "    print(v.name, \"=\", v.varValue)\n",
    "\n",
    "print(\"FO =\", value(problem.objective))\n",
    "\n",
    "print(\"Current Status =\", LpStatus[problem.status])"
   ]
  }
 ],
 "metadata": {
  "kernelspec": {
   "display_name": "PO-Otimizacao",
   "language": "python",
   "name": "python3"
  },
  "language_info": {
   "codemirror_mode": {
    "name": "ipython",
    "version": 3
   },
   "file_extension": ".py",
   "mimetype": "text/x-python",
   "name": "python",
   "nbconvert_exporter": "python",
   "pygments_lexer": "ipython3",
   "version": "3.12.9"
  },
  "orig_nbformat": 4,
  "vscode": {
   "interpreter": {
    "hash": "b963d41c2e1d713a28cf55ec24dc6ffece7cb27ccfb3cc0807eb89afcc27d056"
   }
  }
 },
 "nbformat": 4,
 "nbformat_minor": 2
}
