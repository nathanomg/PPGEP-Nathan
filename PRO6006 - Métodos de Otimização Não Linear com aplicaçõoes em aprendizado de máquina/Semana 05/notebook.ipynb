{
 "cells": [
  {
   "cell_type": "code",
   "execution_count": 1,
   "id": "6bafdc9d",
   "metadata": {
    "_cell_guid": "b1076dfc-b9ad-4769-8c92-a6c4dae69d19",
    "_uuid": "8f2839f25d086af736a60e9eeb907d3b93b6e0e5",
    "execution": {
     "iopub.execute_input": "2025-07-28T01:53:34.222967Z",
     "iopub.status.busy": "2025-07-28T01:53:34.222548Z",
     "iopub.status.idle": "2025-07-28T01:53:57.709032Z",
     "shell.execute_reply": "2025-07-28T01:53:57.707852Z"
    },
    "papermill": {
     "duration": 23.493168,
     "end_time": "2025-07-28T01:53:57.711237",
     "exception": false,
     "start_time": "2025-07-28T01:53:34.218069",
     "status": "completed"
    },
    "tags": []
   },
   "outputs": [
    {
     "name": "stderr",
     "output_type": "stream",
     "text": [
      "2025-07-28 01:53:38.680941: E external/local_xla/xla/stream_executor/cuda/cuda_fft.cc:477] Unable to register cuFFT factory: Attempting to register factory for plugin cuFFT when one has already been registered\n",
      "WARNING: All log messages before absl::InitializeLog() is called are written to STDERR\n",
      "E0000 00:00:1753667618.966790      13 cuda_dnn.cc:8310] Unable to register cuDNN factory: Attempting to register factory for plugin cuDNN when one has already been registered\n",
      "E0000 00:00:1753667619.044220      13 cuda_blas.cc:1418] Unable to register cuBLAS factory: Attempting to register factory for plugin cuBLAS when one has already been registered\n"
     ]
    }
   ],
   "source": [
    "#importação de bibliotecas\n",
    "from sklearn.model_selection import train_test_split\n",
    "from sklearn.preprocessing   import StandardScaler\n",
    "from sklearn.metrics         import classification_report\n",
    "from tensorflow              import keras\n",
    "import tensorflow as tf\n",
    "import pandas     as pd\n",
    "import numpy      as np\n",
    "\n",
    "import os"
   ]
  },
  {
   "cell_type": "code",
   "execution_count": 2,
   "id": "768babf4",
   "metadata": {
    "execution": {
     "iopub.execute_input": "2025-07-28T01:53:57.718637Z",
     "iopub.status.busy": "2025-07-28T01:53:57.718034Z",
     "iopub.status.idle": "2025-07-28T01:53:57.727962Z",
     "shell.execute_reply": "2025-07-28T01:53:57.726764Z"
    },
    "papermill": {
     "duration": 0.015516,
     "end_time": "2025-07-28T01:53:57.729848",
     "exception": false,
     "start_time": "2025-07-28T01:53:57.714332",
     "status": "completed"
    },
    "tags": []
   },
   "outputs": [
    {
     "name": "stdout",
     "output_type": "stream",
     "text": [
      "/kaggle/input/titanic/train.csv\n",
      "/kaggle/input/titanic/test.csv\n",
      "/kaggle/input/titanic/gender_submission.csv\n"
     ]
    }
   ],
   "source": [
    "for dirname, _, filenames in os.walk('/kaggle/input'):\n",
    "    for filename in filenames:\n",
    "        print(os.path.join(dirname, filename))"
   ]
  },
  {
   "cell_type": "code",
   "execution_count": 3,
   "id": "ca2ad50a",
   "metadata": {
    "execution": {
     "iopub.execute_input": "2025-07-28T01:53:57.736727Z",
     "iopub.status.busy": "2025-07-28T01:53:57.736339Z",
     "iopub.status.idle": "2025-07-28T01:53:57.761750Z",
     "shell.execute_reply": "2025-07-28T01:53:57.760387Z"
    },
    "papermill": {
     "duration": 0.030935,
     "end_time": "2025-07-28T01:53:57.763557",
     "exception": false,
     "start_time": "2025-07-28T01:53:57.732622",
     "status": "completed"
    },
    "tags": []
   },
   "outputs": [],
   "source": [
    "csv_train_path  = '/kaggle/input/titanic/train.csv'\n",
    "\n",
    "raw_df    = pd.read_csv(csv_train_path)"
   ]
  },
  {
   "cell_type": "code",
   "execution_count": 4,
   "id": "48159b8c",
   "metadata": {
    "execution": {
     "iopub.execute_input": "2025-07-28T01:53:57.770730Z",
     "iopub.status.busy": "2025-07-28T01:53:57.770279Z",
     "iopub.status.idle": "2025-07-28T01:53:57.775899Z",
     "shell.execute_reply": "2025-07-28T01:53:57.774572Z"
    },
    "papermill": {
     "duration": 0.011365,
     "end_time": "2025-07-28T01:53:57.777786",
     "exception": false,
     "start_time": "2025-07-28T01:53:57.766421",
     "status": "completed"
    },
    "tags": []
   },
   "outputs": [],
   "source": [
    "target_column       = ['Survived']\n",
    "training_columns    = ['Pclass', 'Sex', 'Age', 'SibSp', 'Parch', 'Fare', 'Embarked']\n",
    "categorical_columns = ['Sex', 'Pclass', 'Embarked']"
   ]
  },
  {
   "cell_type": "code",
   "execution_count": 5,
   "id": "3de40d9a",
   "metadata": {
    "execution": {
     "iopub.execute_input": "2025-07-28T01:53:57.785016Z",
     "iopub.status.busy": "2025-07-28T01:53:57.784597Z",
     "iopub.status.idle": "2025-07-28T01:53:57.822604Z",
     "shell.execute_reply": "2025-07-28T01:53:57.821602Z"
    },
    "papermill": {
     "duration": 0.044012,
     "end_time": "2025-07-28T01:53:57.824530",
     "exception": false,
     "start_time": "2025-07-28T01:53:57.780518",
     "status": "completed"
    },
    "tags": []
   },
   "outputs": [],
   "source": [
    "#treat data\n",
    "def treat_data(raw_df, training_columns, target_column, trainning = True):\n",
    "    all_columns = training_columns + target_column if trainning else training_columns\n",
    "    \n",
    "    treated_df = raw_df.copy()\n",
    "    treated_df['Age'] = treated_df['Age'].fillna(treated_df['Age'].mean())\n",
    "    treated_df['Fare'] = treated_df['Fare'].fillna(treated_df['Fare'].mean())\n",
    "    \n",
    "    treated_df = treated_df[all_columns]\n",
    "    treated_df = treated_df.dropna()\n",
    "    \n",
    "    treated_df = pd.get_dummies(treated_df, columns=categorical_columns, drop_first=True, dtype=int)\n",
    "\n",
    "    return treated_df\n",
    "\n",
    "treated_df = treat_data(raw_df, training_columns, target_column)\n",
    "expanded_training_columns = list(treated_df.columns)\n",
    "expanded_training_columns.remove(target_column[0])"
   ]
  },
  {
   "cell_type": "code",
   "execution_count": 6,
   "id": "5816e6ac",
   "metadata": {
    "execution": {
     "iopub.execute_input": "2025-07-28T01:53:57.831362Z",
     "iopub.status.busy": "2025-07-28T01:53:57.830918Z",
     "iopub.status.idle": "2025-07-28T01:53:57.859873Z",
     "shell.execute_reply": "2025-07-28T01:53:57.858633Z"
    },
    "papermill": {
     "duration": 0.03426,
     "end_time": "2025-07-28T01:53:57.861605",
     "exception": false,
     "start_time": "2025-07-28T01:53:57.827345",
     "status": "completed"
    },
    "tags": []
   },
   "outputs": [],
   "source": [
    "X = treated_df[expanded_training_columns]\n",
    "y = treated_df[target_column]\n",
    "\n",
    "X_train = X.values\n",
    "y_train = y.values\n",
    "\n",
    "scaler = StandardScaler()\n",
    "X_train_scaled = scaler.fit_transform(X_train)"
   ]
  },
  {
   "cell_type": "code",
   "execution_count": 7,
   "id": "5e2ffee9",
   "metadata": {
    "execution": {
     "iopub.execute_input": "2025-07-28T01:53:57.868220Z",
     "iopub.status.busy": "2025-07-28T01:53:57.867889Z",
     "iopub.status.idle": "2025-07-28T01:54:06.994583Z",
     "shell.execute_reply": "2025-07-28T01:54:06.993500Z"
    },
    "papermill": {
     "duration": 9.132244,
     "end_time": "2025-07-28T01:54:06.996522",
     "exception": false,
     "start_time": "2025-07-28T01:53:57.864278",
     "status": "completed"
    },
    "tags": []
   },
   "outputs": [
    {
     "name": "stderr",
     "output_type": "stream",
     "text": [
      "2025-07-28 01:53:57.966623: E external/local_xla/xla/stream_executor/cuda/cuda_driver.cc:152] failed call to cuInit: INTERNAL: CUDA error: Failed call to cuInit: UNKNOWN ERROR (303)\n"
     ]
    }
   ],
   "source": [
    "model = keras.Sequential([\n",
    "    keras.Input(shape=[len(expanded_training_columns)]),\n",
    "\n",
    "    keras.layers.Dense(18, activation='sigmoid'),\n",
    "    keras.layers.Dense(36, activation='sigmoid'),\n",
    "    keras.layers.Dense(18, activation='sigmoid'),\n",
    "    keras.layers.Dense( 9, activation='sigmoid'),\n",
    "\n",
    "    keras.layers.Dense(1, activation='sigmoid')\n",
    "])\n",
    "\n",
    "model.compile(optimizer='adam', loss='binary_crossentropy', metrics=['accuracy'])\n",
    "history = model.fit(X_train_scaled, y_train, epochs=50, batch_size=32, verbose=0)"
   ]
  },
  {
   "cell_type": "code",
   "execution_count": 8,
   "id": "994e0b1d",
   "metadata": {
    "execution": {
     "iopub.execute_input": "2025-07-28T01:54:07.003992Z",
     "iopub.status.busy": "2025-07-28T01:54:07.003452Z",
     "iopub.status.idle": "2025-07-28T01:54:07.340196Z",
     "shell.execute_reply": "2025-07-28T01:54:07.338806Z"
    },
    "papermill": {
     "duration": 0.343445,
     "end_time": "2025-07-28T01:54:07.342824",
     "exception": false,
     "start_time": "2025-07-28T01:54:06.999379",
     "status": "completed"
    },
    "tags": []
   },
   "outputs": [
    {
     "name": "stdout",
     "output_type": "stream",
     "text": [
      "\u001b[1m14/14\u001b[0m \u001b[32m━━━━━━━━━━━━━━━━━━━━\u001b[0m\u001b[37m\u001b[0m \u001b[1m0s\u001b[0m 9ms/step\n"
     ]
    }
   ],
   "source": [
    "csv_test_path  = '/kaggle/input/titanic/test.csv'\n",
    "\n",
    "test_df = pd.read_csv(csv_test_path)\n",
    "treated_test_df = treat_data(test_df, training_columns, target_column, False)\n",
    "\n",
    "X             = treated_test_df[expanded_training_columns]\n",
    "X_test        = X.values\n",
    "X_test_scaled = scaler.transform(X_test)\n",
    "\n",
    "probabilities = model.predict(X_test_scaled)\n",
    "predictions   = np.where(probabilities > 0.5, 1, 0)"
   ]
  },
  {
   "cell_type": "code",
   "execution_count": 9,
   "id": "916d4811",
   "metadata": {
    "execution": {
     "iopub.execute_input": "2025-07-28T01:54:07.354159Z",
     "iopub.status.busy": "2025-07-28T01:54:07.353771Z",
     "iopub.status.idle": "2025-07-28T01:54:07.367621Z",
     "shell.execute_reply": "2025-07-28T01:54:07.366433Z"
    },
    "papermill": {
     "duration": 0.019864,
     "end_time": "2025-07-28T01:54:07.369339",
     "exception": false,
     "start_time": "2025-07-28T01:54:07.349475",
     "status": "completed"
    },
    "tags": []
   },
   "outputs": [
    {
     "name": "stdout",
     "output_type": "stream",
     "text": [
      "Your submission was successfully saved!\n"
     ]
    }
   ],
   "source": [
    "output = pd.DataFrame({'PassengerId': test_df.PassengerId, 'Survived': predictions.ravel()})\n",
    "output.to_csv('submission.csv', index=False)\n",
    "print(\"Your submission was successfully saved!\")"
   ]
  }
 ],
 "metadata": {
  "kaggle": {
   "accelerator": "none",
   "dataSources": [
    {
     "databundleVersionId": 26502,
     "sourceId": 3136,
     "sourceType": "competition"
    }
   ],
   "dockerImageVersionId": 31089,
   "isGpuEnabled": false,
   "isInternetEnabled": false,
   "language": "python",
   "sourceType": "notebook"
  },
  "kernelspec": {
   "display_name": "Python 3",
   "language": "python",
   "name": "python3"
  },
  "language_info": {
   "codemirror_mode": {
    "name": "ipython",
    "version": 3
   },
   "file_extension": ".py",
   "mimetype": "text/x-python",
   "name": "python",
   "nbconvert_exporter": "python",
   "pygments_lexer": "ipython3",
   "version": "3.11.13"
  },
  "papermill": {
   "default_parameters": {},
   "duration": 43.77929,
   "end_time": "2025-07-28T01:54:10.698945",
   "environment_variables": {},
   "exception": null,
   "input_path": "__notebook__.ipynb",
   "output_path": "__notebook__.ipynb",
   "parameters": {},
   "start_time": "2025-07-28T01:53:26.919655",
   "version": "2.6.0"
  }
 },
 "nbformat": 4,
 "nbformat_minor": 5
}
